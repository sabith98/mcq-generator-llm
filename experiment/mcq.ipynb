{
 "cells": [
  {
   "cell_type": "code",
   "execution_count": 1,
   "metadata": {},
   "outputs": [],
   "source": [
    "import os\n",
    "import json\n",
    "import pandas as pd\n",
    "import traceback"
   ]
  },
  {
   "cell_type": "code",
   "execution_count": 2,
   "metadata": {},
   "outputs": [
    {
     "data": {
      "text/plain": [
       "True"
      ]
     },
     "execution_count": 2,
     "metadata": {},
     "output_type": "execute_result"
    }
   ],
   "source": [
    "from dotenv import load_dotenv\n",
    "\n",
    "load_dotenv()"
   ]
  },
  {
   "cell_type": "code",
   "execution_count": 3,
   "metadata": {},
   "outputs": [],
   "source": [
    "KEY=os.getenv(\"OPENAI_API_KEY\")"
   ]
  },
  {
   "cell_type": "code",
   "execution_count": 6,
   "metadata": {},
   "outputs": [],
   "source": [
    "from langchain_openai import ChatOpenAI"
   ]
  },
  {
   "cell_type": "code",
   "execution_count": 7,
   "metadata": {},
   "outputs": [],
   "source": [
    "llm = ChatOpenAI(openai_api_key=KEY, temperature=0.5)"
   ]
  },
  {
   "cell_type": "code",
   "execution_count": 8,
   "metadata": {},
   "outputs": [],
   "source": [
    "from langchain.llms import OpenAI\n",
    "from langchain.prompts import PromptTemplate\n",
    "from langchain.chains import LLMChain\n",
    "from langchain.chains import SequentialChain\n",
    "from langchain.callbacks import get_openai_callback\n",
    "import PyPDF2"
   ]
  },
  {
   "cell_type": "code",
   "execution_count": 9,
   "metadata": {},
   "outputs": [],
   "source": [
    "RESPONSE_JSON = {\n",
    "    \"1\": {\n",
    "        \"mcq\": \"multiple choice question\",\n",
    "        \"options\": {\n",
    "            \"a\": \"choice here\",\n",
    "            \"b\": \"choice here\",\n",
    "            \"c\": \"choice here\",\n",
    "            \"d\": \"choice here\",\n",
    "        },\n",
    "        \"correct\": \"correct answer\",\n",
    "    },\n",
    "    \"2\": {\n",
    "        \"mcq\": \"multiple choice question\",\n",
    "        \"options\": {\n",
    "            \"a\": \"choice here\",\n",
    "            \"b\": \"choice here\",\n",
    "            \"c\": \"choice here\",\n",
    "            \"d\": \"choice here\",\n",
    "        },\n",
    "        \"correct\": \"correct answer\",\n",
    "    },\n",
    "    \"3\": {\n",
    "        \"mcq\": \"multiple choice question\",\n",
    "        \"options\": {\n",
    "            \"a\": \"choice here\",\n",
    "            \"b\": \"choice here\",\n",
    "            \"c\": \"choice here\",\n",
    "            \"d\": \"choice here\",\n",
    "        },\n",
    "        \"correct\": \"correct answer\",\n",
    "    },\n",
    "}"
   ]
  },
  {
   "cell_type": "code",
   "execution_count": 10,
   "metadata": {},
   "outputs": [],
   "source": [
    "TEMPLATE=\"\"\"\n",
    "Text:{text}\n",
    "You are an expert MCQ maker. Given the above text, it is your job to \\\n",
    "create a quiz  of {number} multiple choice questions for {subject} students in {tone} tone. \n",
    "Make sure the questions are not repeated and check all the questions to be conforming the text as well.\n",
    "Make sure to format your response like  RESPONSE_JSON below  and use it as a guide. \\\n",
    "Ensure to make {number} MCQs\n",
    "### RESPONSE_JSON\n",
    "{response_json}\n",
    "\n",
    "\"\"\""
   ]
  },
  {
   "cell_type": "code",
   "execution_count": 11,
   "metadata": {},
   "outputs": [],
   "source": [
    "quiz_generation_prompt = PromptTemplate(\n",
    "    input_variables=[\"text\", \"number\", \"subject\", \"tone\", \"response_json\"],\n",
    "    template=TEMPLATE\n",
    ")"
   ]
  },
  {
   "cell_type": "code",
   "execution_count": 12,
   "metadata": {},
   "outputs": [],
   "source": [
    "quiz_chain=LLMChain(llm=llm, prompt=quiz_generation_prompt, output_key=\"quiz\", verbose=True)"
   ]
  },
  {
   "cell_type": "code",
   "execution_count": 13,
   "metadata": {},
   "outputs": [],
   "source": [
    "TEMPLATE2=\"\"\"\n",
    "You are an expert english grammarian and writer. Given a Multiple Choice Quiz for {subject} students.\\\n",
    "You need to evaluate the complexity of the question and give a complete analysis of the quiz. Only use at max 50 words for complexity analysis. \n",
    "if the quiz is not at per with the cognitive and analytical abilities of the students,\\\n",
    "update the quiz questions which needs to be changed and change the tone such that it perfectly fits the student abilities\n",
    "Quiz_MCQs:\n",
    "{quiz}\n",
    "\n",
    "Check from an expert English Writer of the above quiz:\n",
    "\"\"\""
   ]
  },
  {
   "cell_type": "code",
   "execution_count": 14,
   "metadata": {},
   "outputs": [],
   "source": [
    "quiz_evaluation_prompt=PromptTemplate(input_variables=[\"subject\", \"quiz\"], template=TEMPLATE)"
   ]
  },
  {
   "cell_type": "code",
   "execution_count": 15,
   "metadata": {},
   "outputs": [],
   "source": [
    "review_chain=LLMChain(llm=llm, prompt=quiz_evaluation_prompt, output_key=\"review\", verbose=True)"
   ]
  },
  {
   "cell_type": "code",
   "execution_count": 16,
   "metadata": {},
   "outputs": [],
   "source": [
    "generate_evaluate_chain=SequentialChain(chains=[quiz_chain, review_chain], input_variables=[\"text\", \"number\", \"subject\", \"tone\", \"response_json\"],\n",
    "                                        output_variables=[\"quiz\", \"review\"], verbose=True,)"
   ]
  },
  {
   "cell_type": "code",
   "execution_count": 17,
   "metadata": {},
   "outputs": [],
   "source": [
    "file_path=r\"D:\\Data Science\\large language models\\mcqgen\\data.txt\""
   ]
  },
  {
   "cell_type": "code",
   "execution_count": 19,
   "metadata": {},
   "outputs": [],
   "source": [
    "with open(file_path, 'r') as file:\n",
    "    TEXT = file.read()"
   ]
  },
  {
   "cell_type": "code",
   "execution_count": 22,
   "metadata": {},
   "outputs": [
    {
     "name": "stdout",
     "output_type": "stream",
     "text": [
      "Linear Regression\n",
      "Theory: At its core, linear regression is a method to predict the value of a variable based on the value of one or more other variables. The prediction is made under the assumption that the relationship between these variables is linear, meaning that if you were to plot them on a graph, they would roughly align along a straight line. The goal of linear regression is to find the best-fitting line through the data points that minimizes the differences between the predicted values and the actual values. This best-fitting line is then used to make predictions.\n",
      "\n",
      "Logistic Regression\n",
      "Theory: Logistic regression, unlike linear regression, is used when the outcome we are trying to predict is categorical, typically a yes/no outcome. Instead of fitting a straight line to the data, logistic regression fits a curve that estimates the probability of the occurrence of a yes (or 1) outcome. The theory behind logistic regression is to model the odds of the dependent variable as a linear combination of the independent variables, transforming these odds into a probability that lies between 0 and 1. This allows for predicting the likelihood of events, such as whether an email is spam or not, based on given inputs.\n",
      "\n",
      "Natural Language Processing (NLP)\n",
      "Theory: NLP is a field at the intersection of computer science, artificial intelligence, and linguistics, aiming to enable machines to understand and interpret human language. The theory behind NLP involves teaching computers the rules and patterns of language, allowing them to process and analyze large amounts of natural language data. NLP encompasses a range of techniques and tools to solve various problems, such as translating text from one language to another, responding to voice commands, or identifying sentiments in text. It bridges human communication and computer understanding by converting language into a form that machines can interpret and respond to.\n",
      "\n",
      "Large Language Models (LLMs)\n",
      "Theory: Large language models are advanced algorithms designed to understand, generate, and interact using human-like language based on the training received from extensive datasets of text. These models learn the structure, nuances, and context of language from the data they are trained on, enabling them to generate coherent and contextually relevant text on a wide range of topics. The theory behind these models is grounded in deep learning, where the model learns patterns and relationships within the training data and applies this knowledge to generate new text or interpret input text. LLMs can understand queries, provide answers, compose text, and even create content that feels surprisingly human-like, reflecting their ability to capture the complexity and subtlety of human language.\n"
     ]
    }
   ],
   "source": [
    "print(TEXT)"
   ]
  },
  {
   "cell_type": "code",
   "execution_count": 23,
   "metadata": {},
   "outputs": [
    {
     "data": {
      "text/plain": [
       "'{\"1\": {\"mcq\": \"multiple choice question\", \"options\": {\"a\": \"choice here\", \"b\": \"choice here\", \"c\": \"choice here\", \"d\": \"choice here\"}, \"correct\": \"correct answer\"}, \"2\": {\"mcq\": \"multiple choice question\", \"options\": {\"a\": \"choice here\", \"b\": \"choice here\", \"c\": \"choice here\", \"d\": \"choice here\"}, \"correct\": \"correct answer\"}, \"3\": {\"mcq\": \"multiple choice question\", \"options\": {\"a\": \"choice here\", \"b\": \"choice here\", \"c\": \"choice here\", \"d\": \"choice here\"}, \"correct\": \"correct answer\"}}'"
      ]
     },
     "execution_count": 23,
     "metadata": {},
     "output_type": "execute_result"
    }
   ],
   "source": [
    "# Serialize the Python dictionary into a JSON-formatted string\n",
    "json.dumps(RESPONSE_JSON)"
   ]
  },
  {
   "cell_type": "code",
   "execution_count": 25,
   "metadata": {},
   "outputs": [],
   "source": [
    "NUMBER=5 \n",
    "SUBJECT=\"artificial intelligence\"\n",
    "TONE=\"simple\""
   ]
  },
  {
   "cell_type": "code",
   "execution_count": 26,
   "metadata": {},
   "outputs": [
    {
     "name": "stderr",
     "output_type": "stream",
     "text": [
      "d:\\Data Science\\large language models\\mcqgen\\env\\Lib\\site-packages\\langchain_core\\_api\\deprecation.py:117: LangChainDeprecationWarning: The function `__call__` was deprecated in LangChain 0.1.0 and will be removed in 0.2.0. Use invoke instead.\n",
      "  warn_deprecated(\n"
     ]
    },
    {
     "name": "stdout",
     "output_type": "stream",
     "text": [
      "\n",
      "\n",
      "\u001b[1m> Entering new SequentialChain chain...\u001b[0m\n",
      "\n",
      "\n",
      "\u001b[1m> Entering new LLMChain chain...\u001b[0m\n",
      "Prompt after formatting:\n",
      "\u001b[32;1m\u001b[1;3m\n",
      "Text:Linear Regression\n",
      "Theory: At its core, linear regression is a method to predict the value of a variable based on the value of one or more other variables. The prediction is made under the assumption that the relationship between these variables is linear, meaning that if you were to plot them on a graph, they would roughly align along a straight line. The goal of linear regression is to find the best-fitting line through the data points that minimizes the differences between the predicted values and the actual values. This best-fitting line is then used to make predictions.\n",
      "\n",
      "Logistic Regression\n",
      "Theory: Logistic regression, unlike linear regression, is used when the outcome we are trying to predict is categorical, typically a yes/no outcome. Instead of fitting a straight line to the data, logistic regression fits a curve that estimates the probability of the occurrence of a yes (or 1) outcome. The theory behind logistic regression is to model the odds of the dependent variable as a linear combination of the independent variables, transforming these odds into a probability that lies between 0 and 1. This allows for predicting the likelihood of events, such as whether an email is spam or not, based on given inputs.\n",
      "\n",
      "Natural Language Processing (NLP)\n",
      "Theory: NLP is a field at the intersection of computer science, artificial intelligence, and linguistics, aiming to enable machines to understand and interpret human language. The theory behind NLP involves teaching computers the rules and patterns of language, allowing them to process and analyze large amounts of natural language data. NLP encompasses a range of techniques and tools to solve various problems, such as translating text from one language to another, responding to voice commands, or identifying sentiments in text. It bridges human communication and computer understanding by converting language into a form that machines can interpret and respond to.\n",
      "\n",
      "Large Language Models (LLMs)\n",
      "Theory: Large language models are advanced algorithms designed to understand, generate, and interact using human-like language based on the training received from extensive datasets of text. These models learn the structure, nuances, and context of language from the data they are trained on, enabling them to generate coherent and contextually relevant text on a wide range of topics. The theory behind these models is grounded in deep learning, where the model learns patterns and relationships within the training data and applies this knowledge to generate new text or interpret input text. LLMs can understand queries, provide answers, compose text, and even create content that feels surprisingly human-like, reflecting their ability to capture the complexity and subtlety of human language.\n",
      "You are an expert MCQ maker. Given the above text, it is your job to create a quiz  of 5 multiple choice questions for artificial intelligence students in simple tone. \n",
      "Make sure the questions are not repeated and check all the questions to be conforming the text as well.\n",
      "Make sure to format your response like  RESPONSE_JSON below  and use it as a guide. Ensure to make 5 MCQs\n",
      "### RESPONSE_JSON\n",
      "{\"1\": {\"mcq\": \"multiple choice question\", \"options\": {\"a\": \"choice here\", \"b\": \"choice here\", \"c\": \"choice here\", \"d\": \"choice here\"}, \"correct\": \"correct answer\"}, \"2\": {\"mcq\": \"multiple choice question\", \"options\": {\"a\": \"choice here\", \"b\": \"choice here\", \"c\": \"choice here\", \"d\": \"choice here\"}, \"correct\": \"correct answer\"}, \"3\": {\"mcq\": \"multiple choice question\", \"options\": {\"a\": \"choice here\", \"b\": \"choice here\", \"c\": \"choice here\", \"d\": \"choice here\"}, \"correct\": \"correct answer\"}}\n",
      "\n",
      "\u001b[0m\n",
      "\n",
      "\u001b[1m> Finished chain.\u001b[0m\n",
      "\n",
      "\n",
      "\u001b[1m> Entering new LLMChain chain...\u001b[0m\n",
      "Prompt after formatting:\n",
      "\u001b[32;1m\u001b[1;3m\n",
      "Text:Linear Regression\n",
      "Theory: At its core, linear regression is a method to predict the value of a variable based on the value of one or more other variables. The prediction is made under the assumption that the relationship between these variables is linear, meaning that if you were to plot them on a graph, they would roughly align along a straight line. The goal of linear regression is to find the best-fitting line through the data points that minimizes the differences between the predicted values and the actual values. This best-fitting line is then used to make predictions.\n",
      "\n",
      "Logistic Regression\n",
      "Theory: Logistic regression, unlike linear regression, is used when the outcome we are trying to predict is categorical, typically a yes/no outcome. Instead of fitting a straight line to the data, logistic regression fits a curve that estimates the probability of the occurrence of a yes (or 1) outcome. The theory behind logistic regression is to model the odds of the dependent variable as a linear combination of the independent variables, transforming these odds into a probability that lies between 0 and 1. This allows for predicting the likelihood of events, such as whether an email is spam or not, based on given inputs.\n",
      "\n",
      "Natural Language Processing (NLP)\n",
      "Theory: NLP is a field at the intersection of computer science, artificial intelligence, and linguistics, aiming to enable machines to understand and interpret human language. The theory behind NLP involves teaching computers the rules and patterns of language, allowing them to process and analyze large amounts of natural language data. NLP encompasses a range of techniques and tools to solve various problems, such as translating text from one language to another, responding to voice commands, or identifying sentiments in text. It bridges human communication and computer understanding by converting language into a form that machines can interpret and respond to.\n",
      "\n",
      "Large Language Models (LLMs)\n",
      "Theory: Large language models are advanced algorithms designed to understand, generate, and interact using human-like language based on the training received from extensive datasets of text. These models learn the structure, nuances, and context of language from the data they are trained on, enabling them to generate coherent and contextually relevant text on a wide range of topics. The theory behind these models is grounded in deep learning, where the model learns patterns and relationships within the training data and applies this knowledge to generate new text or interpret input text. LLMs can understand queries, provide answers, compose text, and even create content that feels surprisingly human-like, reflecting their ability to capture the complexity and subtlety of human language.\n",
      "You are an expert MCQ maker. Given the above text, it is your job to create a quiz  of 5 multiple choice questions for artificial intelligence students in simple tone. \n",
      "Make sure the questions are not repeated and check all the questions to be conforming the text as well.\n",
      "Make sure to format your response like  RESPONSE_JSON below  and use it as a guide. Ensure to make 5 MCQs\n",
      "### RESPONSE_JSON\n",
      "{\"1\": {\"mcq\": \"multiple choice question\", \"options\": {\"a\": \"choice here\", \"b\": \"choice here\", \"c\": \"choice here\", \"d\": \"choice here\"}, \"correct\": \"correct answer\"}, \"2\": {\"mcq\": \"multiple choice question\", \"options\": {\"a\": \"choice here\", \"b\": \"choice here\", \"c\": \"choice here\", \"d\": \"choice here\"}, \"correct\": \"correct answer\"}, \"3\": {\"mcq\": \"multiple choice question\", \"options\": {\"a\": \"choice here\", \"b\": \"choice here\", \"c\": \"choice here\", \"d\": \"choice here\"}, \"correct\": \"correct answer\"}}\n",
      "\n",
      "\u001b[0m\n",
      "\n",
      "\u001b[1m> Finished chain.\u001b[0m\n",
      "\n",
      "\u001b[1m> Finished chain.\u001b[0m\n"
     ]
    }
   ],
   "source": [
    "#https://python.langchain.com/docs/modules/model_io/llms/token_usage_tracking\n",
    "\n",
    "#How to setup Token Usage Tracking in LangChain\n",
    "with get_openai_callback() as cb:\n",
    "    response=generate_evaluate_chain(\n",
    "        {\n",
    "            \"text\": TEXT,\n",
    "            \"number\": NUMBER,\n",
    "            \"subject\":SUBJECT,\n",
    "            \"tone\": TONE,\n",
    "            \"response_json\": json.dumps(RESPONSE_JSON)\n",
    "        }\n",
    "    )"
   ]
  },
  {
   "cell_type": "code",
   "execution_count": 27,
   "metadata": {},
   "outputs": [
    {
     "name": "stdout",
     "output_type": "stream",
     "text": [
      "Total Tokens:2332\n",
      "Prompt Tokens:1520\n",
      "Completion Tokens:812\n",
      "Total Cost:0.0039040000000000004\n"
     ]
    }
   ],
   "source": [
    "print(f\"Total Tokens:{cb.total_tokens}\")\n",
    "print(f\"Prompt Tokens:{cb.prompt_tokens}\")\n",
    "print(f\"Completion Tokens:{cb.completion_tokens}\")\n",
    "print(f\"Total Cost:{cb.total_cost}\")"
   ]
  },
  {
   "cell_type": "code",
   "execution_count": 28,
   "metadata": {},
   "outputs": [
    {
     "data": {
      "text/plain": [
       "{'text': 'Linear Regression\\nTheory: At its core, linear regression is a method to predict the value of a variable based on the value of one or more other variables. The prediction is made under the assumption that the relationship between these variables is linear, meaning that if you were to plot them on a graph, they would roughly align along a straight line. The goal of linear regression is to find the best-fitting line through the data points that minimizes the differences between the predicted values and the actual values. This best-fitting line is then used to make predictions.\\n\\nLogistic Regression\\nTheory: Logistic regression, unlike linear regression, is used when the outcome we are trying to predict is categorical, typically a yes/no outcome. Instead of fitting a straight line to the data, logistic regression fits a curve that estimates the probability of the occurrence of a yes (or 1) outcome. The theory behind logistic regression is to model the odds of the dependent variable as a linear combination of the independent variables, transforming these odds into a probability that lies between 0 and 1. This allows for predicting the likelihood of events, such as whether an email is spam or not, based on given inputs.\\n\\nNatural Language Processing (NLP)\\nTheory: NLP is a field at the intersection of computer science, artificial intelligence, and linguistics, aiming to enable machines to understand and interpret human language. The theory behind NLP involves teaching computers the rules and patterns of language, allowing them to process and analyze large amounts of natural language data. NLP encompasses a range of techniques and tools to solve various problems, such as translating text from one language to another, responding to voice commands, or identifying sentiments in text. It bridges human communication and computer understanding by converting language into a form that machines can interpret and respond to.\\n\\nLarge Language Models (LLMs)\\nTheory: Large language models are advanced algorithms designed to understand, generate, and interact using human-like language based on the training received from extensive datasets of text. These models learn the structure, nuances, and context of language from the data they are trained on, enabling them to generate coherent and contextually relevant text on a wide range of topics. The theory behind these models is grounded in deep learning, where the model learns patterns and relationships within the training data and applies this knowledge to generate new text or interpret input text. LLMs can understand queries, provide answers, compose text, and even create content that feels surprisingly human-like, reflecting their ability to capture the complexity and subtlety of human language.',\n",
       " 'number': 5,\n",
       " 'subject': 'artificial intelligence',\n",
       " 'tone': 'simple',\n",
       " 'response_json': '{\"1\": {\"mcq\": \"multiple choice question\", \"options\": {\"a\": \"choice here\", \"b\": \"choice here\", \"c\": \"choice here\", \"d\": \"choice here\"}, \"correct\": \"correct answer\"}, \"2\": {\"mcq\": \"multiple choice question\", \"options\": {\"a\": \"choice here\", \"b\": \"choice here\", \"c\": \"choice here\", \"d\": \"choice here\"}, \"correct\": \"correct answer\"}, \"3\": {\"mcq\": \"multiple choice question\", \"options\": {\"a\": \"choice here\", \"b\": \"choice here\", \"c\": \"choice here\", \"d\": \"choice here\"}, \"correct\": \"correct answer\"}}',\n",
       " 'quiz': '{\"1\": {\"mcq\": \"What is the goal of linear regression?\", \"options\": {\"a\": \"To find the best-fitting line through the data points\", \"b\": \"To predict the value of a variable based on other variables\", \"c\": \"To estimate the probability of a categorical outcome\", \"d\": \"To understand and interpret human language\"}, \"correct\": \"a\"}, \\n\"2\": {\"mcq\": \"When is logistic regression used?\", \"options\": {\"a\": \"When the outcome to predict is categorical\", \"b\": \"When the relationship between variables is linear\", \"c\": \"When processing and analyzing natural language data\", \"d\": \"When generating coherent and contextually relevant text\"}, \"correct\": \"a\"}, \\n\"3\": {\"mcq\": \"What is the main goal of Natural Language Processing (NLP)?\", \"options\": {\"a\": \"To find the best-fitting line through the data points\", \"b\": \"To predict the value of a variable based on other variables\", \"c\": \"To enable machines to understand and interpret human language\", \"d\": \"To estimate the probability of a categorical outcome\"}, \"correct\": \"c\"}, \\n\"4\": {\"mcq\": \"What do Large Language Models (LLMs) learn from training data?\", \"options\": {\"a\": \"The rules and patterns of language\", \"b\": \"The structure, nuances, and context of language\", \"c\": \"The odds of the dependent variable\", \"d\": \"The differences between predicted and actual values\"}, \"correct\": \"b\"}, \\n\"5\": {\"mcq\": \"What is the theory behind logistic regression?\", \"options\": {\"a\": \"To find the best-fitting line through the data points\", \"b\": \"To model the odds of the dependent variable as a linear combination of independent variables\", \"c\": \"To enable machines to understand and interpret human language\", \"d\": \"To estimate the probability of a categorical outcome\"}, \"correct\": \"b\"}}',\n",
       " 'review': '{\"1\": {\"mcq\": \"What is the main goal of linear regression?\", \"options\": {\"a\": \"To predict categorical outcomes\", \"b\": \"To find the best-fitting line through data points\", \"c\": \"To understand and interpret human language\", \"d\": \"To generate coherent and contextually relevant text\"}, \"correct\": \"b\"}, \\n\"2\": {\"mcq\": \"When is logistic regression used?\", \"options\": {\"a\": \"When predicting the value of a variable based on other variables\", \"b\": \"When the outcome to predict is categorical\", \"c\": \"When analyzing large amounts of natural language data\", \"d\": \"When training large language models\"}, \"correct\": \"b\"}, \\n\"3\": {\"mcq\": \"What is the goal of natural language processing (NLP)?\", \"options\": {\"a\": \"To predict the likelihood of events\", \"b\": \"To understand and interpret human language\", \"c\": \"To find the best-fitting line through data points\", \"d\": \"To generate coherent and contextually relevant text\"}, \"correct\": \"b\"}, \\n\"4\": {\"mcq\": \"What do large language models (LLMs) learn from extensive datasets of text?\", \"options\": {\"a\": \"The structure, nuances, and context of language\", \"b\": \"The rules and patterns of language\", \"c\": \"The odds of the dependent variable\", \"d\": \"The relationships within the training data\"}, \"correct\": \"a\"}, \\n\"5\": {\"mcq\": \"What is the theory behind logistic regression?\", \"options\": {\"a\": \"To model the odds of the dependent variable as a linear combination of the independent variables\", \"b\": \"To enable machines to understand and interpret human language\", \"c\": \"To learn patterns and relationships within training data\", \"d\": \"To generate coherent and contextually relevant text\"}, \"correct\": \"a\"}}'}"
      ]
     },
     "execution_count": 28,
     "metadata": {},
     "output_type": "execute_result"
    }
   ],
   "source": [
    "response"
   ]
  },
  {
   "cell_type": "code",
   "execution_count": 30,
   "metadata": {},
   "outputs": [],
   "source": [
    "quiz = response.get(\"quiz\")"
   ]
  },
  {
   "cell_type": "code",
   "execution_count": 32,
   "metadata": {},
   "outputs": [],
   "source": [
    "quiz=json.loads(quiz)"
   ]
  },
  {
   "cell_type": "code",
   "execution_count": 33,
   "metadata": {},
   "outputs": [
    {
     "data": {
      "text/plain": [
       "{'1': {'mcq': 'What is the goal of linear regression?',\n",
       "  'options': {'a': 'To find the best-fitting line through the data points',\n",
       "   'b': 'To predict the value of a variable based on other variables',\n",
       "   'c': 'To estimate the probability of a categorical outcome',\n",
       "   'd': 'To understand and interpret human language'},\n",
       "  'correct': 'a'},\n",
       " '2': {'mcq': 'When is logistic regression used?',\n",
       "  'options': {'a': 'When the outcome to predict is categorical',\n",
       "   'b': 'When the relationship between variables is linear',\n",
       "   'c': 'When processing and analyzing natural language data',\n",
       "   'd': 'When generating coherent and contextually relevant text'},\n",
       "  'correct': 'a'},\n",
       " '3': {'mcq': 'What is the main goal of Natural Language Processing (NLP)?',\n",
       "  'options': {'a': 'To find the best-fitting line through the data points',\n",
       "   'b': 'To predict the value of a variable based on other variables',\n",
       "   'c': 'To enable machines to understand and interpret human language',\n",
       "   'd': 'To estimate the probability of a categorical outcome'},\n",
       "  'correct': 'c'},\n",
       " '4': {'mcq': 'What do Large Language Models (LLMs) learn from training data?',\n",
       "  'options': {'a': 'The rules and patterns of language',\n",
       "   'b': 'The structure, nuances, and context of language',\n",
       "   'c': 'The odds of the dependent variable',\n",
       "   'd': 'The differences between predicted and actual values'},\n",
       "  'correct': 'b'},\n",
       " '5': {'mcq': 'What is the theory behind logistic regression?',\n",
       "  'options': {'a': 'To find the best-fitting line through the data points',\n",
       "   'b': 'To model the odds of the dependent variable as a linear combination of independent variables',\n",
       "   'c': 'To enable machines to understand and interpret human language',\n",
       "   'd': 'To estimate the probability of a categorical outcome'},\n",
       "  'correct': 'b'}}"
      ]
     },
     "execution_count": 33,
     "metadata": {},
     "output_type": "execute_result"
    }
   ],
   "source": [
    "quiz"
   ]
  },
  {
   "cell_type": "code",
   "execution_count": 34,
   "metadata": {},
   "outputs": [],
   "source": [
    "quiz_table_data = []\n",
    "for key, value in quiz.items():\n",
    "    mcq = value[\"mcq\"]\n",
    "    options = \" | \".join(\n",
    "        [\n",
    "            f\"{option}: {option_value}\"\n",
    "            for option, option_value in value[\"options\"].items()\n",
    "            ]\n",
    "        )\n",
    "    correct = value[\"correct\"]\n",
    "    quiz_table_data.append({\"MCQ\": mcq, \"Choices\": options, \"Correct\": correct})"
   ]
  },
  {
   "cell_type": "code",
   "execution_count": 35,
   "metadata": {},
   "outputs": [
    {
     "data": {
      "text/plain": [
       "[{'MCQ': 'What is the goal of linear regression?',\n",
       "  'Choices': 'a: To find the best-fitting line through the data points | b: To predict the value of a variable based on other variables | c: To estimate the probability of a categorical outcome | d: To understand and interpret human language',\n",
       "  'Correct': 'a'},\n",
       " {'MCQ': 'When is logistic regression used?',\n",
       "  'Choices': 'a: When the outcome to predict is categorical | b: When the relationship between variables is linear | c: When processing and analyzing natural language data | d: When generating coherent and contextually relevant text',\n",
       "  'Correct': 'a'},\n",
       " {'MCQ': 'What is the main goal of Natural Language Processing (NLP)?',\n",
       "  'Choices': 'a: To find the best-fitting line through the data points | b: To predict the value of a variable based on other variables | c: To enable machines to understand and interpret human language | d: To estimate the probability of a categorical outcome',\n",
       "  'Correct': 'c'},\n",
       " {'MCQ': 'What do Large Language Models (LLMs) learn from training data?',\n",
       "  'Choices': 'a: The rules and patterns of language | b: The structure, nuances, and context of language | c: The odds of the dependent variable | d: The differences between predicted and actual values',\n",
       "  'Correct': 'b'},\n",
       " {'MCQ': 'What is the theory behind logistic regression?',\n",
       "  'Choices': 'a: To find the best-fitting line through the data points | b: To model the odds of the dependent variable as a linear combination of independent variables | c: To enable machines to understand and interpret human language | d: To estimate the probability of a categorical outcome',\n",
       "  'Correct': 'b'}]"
      ]
     },
     "execution_count": 35,
     "metadata": {},
     "output_type": "execute_result"
    }
   ],
   "source": [
    "quiz_table_data"
   ]
  },
  {
   "cell_type": "code",
   "execution_count": 36,
   "metadata": {},
   "outputs": [],
   "source": [
    "quiz=pd.DataFrame(quiz_table_data)"
   ]
  },
  {
   "cell_type": "code",
   "execution_count": 38,
   "metadata": {},
   "outputs": [],
   "source": [
    "quiz.to_csv(\"machinelearning.csv\",index=False)"
   ]
  },
  {
   "cell_type": "code",
   "execution_count": null,
   "metadata": {},
   "outputs": [],
   "source": []
  }
 ],
 "metadata": {
  "kernelspec": {
   "display_name": "Python 3",
   "language": "python",
   "name": "python3"
  },
  "language_info": {
   "codemirror_mode": {
    "name": "ipython",
    "version": 3
   },
   "file_extension": ".py",
   "mimetype": "text/x-python",
   "name": "python",
   "nbconvert_exporter": "python",
   "pygments_lexer": "ipython3",
   "version": "3.11.7"
  }
 },
 "nbformat": 4,
 "nbformat_minor": 2
}
